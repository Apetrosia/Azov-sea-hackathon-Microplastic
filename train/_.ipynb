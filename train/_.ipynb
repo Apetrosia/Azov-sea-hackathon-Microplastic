{
 "cells": [
  {
   "cell_type": "markdown",
   "id": "9444f10a",
   "metadata": {},
   "source": [
    "## Format CSV"
   ]
  },
  {
   "cell_type": "code",
   "execution_count": 50,
   "id": "7cb3acf6",
   "metadata": {},
   "outputs": [],
   "source": [
    "file = '_annotations.csv'\n",
    "res = ''\n",
    "lines = []"
   ]
  },
  {
   "cell_type": "code",
   "execution_count": 51,
   "id": "819a8ee7",
   "metadata": {},
   "outputs": [],
   "source": [
    "import csv\n",
    "\n",
    "with open(file) as input:\n",
    "    fr = csv.reader(input, delimiter=',') # <object-class> <x_center> <y_center> <width> <height>\n",
    "                   #    0      1       2      3    4   5    6    7\n",
    "    for row in fr: # filename,width,height,class,xmin,ymin,xmax,ymax\n",
    "        if row[0] == 'filename':\n",
    "            continue\n",
    "        if res != row[0]:\n",
    "            if res != '':\n",
    "                with open('text\\\\' + res[:-3] + 'txt', 'w', newline='') as output:\n",
    "                    fw = csv.writer(output, delimiter=' ')\n",
    "                    fw.writerows(lines)\n",
    "            res = row[0]\n",
    "            lines = []\n",
    "        # <x> = <absolute_x> / <image_width> or <height> = <absolute_height> / <image_height>\n",
    "        template = '{:.' + str(6) + 'f}'\n",
    "        x_center = (float(row[6]) + float(row[4])) / 2 / float(row[1])\n",
    "        y_center = (float(row[7]) + float(row[5])) / 2 / float(row[2])\n",
    "        width = (float(row[6]) - float(row[4])) / float(row[1])\n",
    "        height = (float(row[7]) - float(row[5])) / float(row[2])\n",
    "        lines.append(['0', template.format(x_center), template.format(y_center), template.format(width), template.format(height)])"
   ]
  },
  {
   "cell_type": "code",
   "execution_count": 91,
   "id": "fd1e4667",
   "metadata": {},
   "outputs": [
    {
     "name": "stdout",
     "output_type": "stream",
     "text": [
      "0\n"
     ]
    }
   ],
   "source": [
    "file = '_annotations.csv'\n",
    "res = 'train.txt'\n",
    "files = []\n",
    "print(len(files))"
   ]
  },
  {
   "cell_type": "code",
   "execution_count": 95,
   "id": "a4a01f4e",
   "metadata": {},
   "outputs": [
    {
     "ename": "TypeError",
     "evalue": "'NoneType' object is not subscriptable",
     "output_type": "error",
     "traceback": [
      "\u001b[1;31m---------------------------------------------------------------------------\u001b[0m",
      "\u001b[1;31mTypeError\u001b[0m                                 Traceback (most recent call last)",
      "Cell \u001b[1;32mIn[95], line 9\u001b[0m\n\u001b[0;32m      7\u001b[0m             files\u001b[38;5;241m.\u001b[39mappend([\u001b[38;5;28mstr\u001b[39m(row[\u001b[38;5;241m0\u001b[39m])])\n\u001b[0;32m      8\u001b[0m             \u001b[38;5;28;01mcontinue\u001b[39;00m\n\u001b[1;32m----> 9\u001b[0m         \u001b[38;5;28;01mif\u001b[39;00m \u001b[43mfiles\u001b[49m\u001b[43m[\u001b[49m\u001b[38;5;241;43m-\u001b[39;49m\u001b[38;5;241;43m1\u001b[39;49m\u001b[43m]\u001b[49m\u001b[43m[\u001b[49m\u001b[38;5;241;43m0\u001b[39;49m\u001b[43m]\u001b[49m \u001b[38;5;241m!=\u001b[39m \u001b[38;5;28mstr\u001b[39m(row[\u001b[38;5;241m0\u001b[39m]):\n\u001b[0;32m     10\u001b[0m             files\u001b[38;5;241m.\u001b[39mappend([\u001b[38;5;28mstr\u001b[39m(row[\u001b[38;5;241m0\u001b[39m])])\n\u001b[0;32m     11\u001b[0m \u001b[38;5;28mprint\u001b[39m(files)\n",
      "\u001b[1;31mTypeError\u001b[0m: 'NoneType' object is not subscriptable"
     ]
    }
   ],
   "source": [
    "with open(file) as input:\n",
    "    fr = csv.reader(input, delimiter=',')\n",
    "    for row in fr:\n",
    "        if row[0] == 'filename':\n",
    "            continue\n",
    "        if len(files) == 0:\n",
    "            files.append([str(row[0])])\n",
    "            continue\n",
    "        if files[-1][0] != str(row[0]):\n",
    "            files.append([str(row[0])])\n",
    "print(files)\n",
    "with open(res, 'w', newline='') as output:\n",
    "    fw = csv.writer(output, delimiter=' ')\n",
    "    fw.writerows(files)"
   ]
  },
  {
   "cell_type": "code",
   "execution_count": 108,
   "id": "0c57fcd0",
   "metadata": {},
   "outputs": [],
   "source": [
    "import os\n",
    "\n",
    "with open(res, 'w', newline='') as output:\n",
    "    for f in os.listdir('.'):\n",
    "        if f[-1] != 'v' and f[-1] != 't' and f[-1] != 'b':\n",
    "            output.write('data/obj/' + f + '\\n')"
   ]
  },
  {
   "cell_type": "code",
   "execution_count": 106,
   "id": "359ab2b1",
   "metadata": {},
   "outputs": [
    {
     "data": {
      "text/plain": [
       "578"
      ]
     },
     "execution_count": 106,
     "metadata": {},
     "output_type": "execute_result"
    }
   ],
   "source": []
  }
 ],
 "metadata": {
  "kernelspec": {
   "display_name": "Python 3",
   "language": "python",
   "name": "python3"
  },
  "language_info": {
   "codemirror_mode": {
    "name": "ipython",
    "version": 3
   },
   "file_extension": ".py",
   "mimetype": "text/x-python",
   "name": "python",
   "nbconvert_exporter": "python",
   "pygments_lexer": "ipython3",
   "version": "3.12.0"
  },
  "vscode": {
   "interpreter": {
    "hash": "ab6e2b18e6a966a9700321bd07f0d41d8ad73a9ae6b63276711c06a2a7e8c02f"
   }
  }
 },
 "nbformat": 4,
 "nbformat_minor": 5
}
