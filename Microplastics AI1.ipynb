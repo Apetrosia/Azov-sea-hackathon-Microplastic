{
 "cells": [
  {
   "cell_type": "markdown",
   "id": "9444f10a",
   "metadata": {},
   "source": [
    "## Microplastics AI"
   ]
  },
  {
   "cell_type": "code",
   "execution_count": 6,
   "id": "7cb3acf6",
   "metadata": {},
   "outputs": [
    {
     "ename": "error",
     "evalue": "OpenCV(4.9.0) D:\\a\\opencv-python\\opencv-python\\opencv\\modules\\imgproc\\src\\color.cpp:196: error: (-215:Assertion failed) !_src.empty() in function 'cv::cvtColor'\n",
     "output_type": "error",
     "traceback": [
      "\u001b[1;31m---------------------------------------------------------------------------\u001b[0m",
      "\u001b[1;31merror\u001b[0m                                     Traceback (most recent call last)",
      "Cell \u001b[1;32mIn[6], line 51\u001b[0m\n\u001b[0;32m     49\u001b[0m \u001b[38;5;66;03m# Пример использования\u001b[39;00m\n\u001b[0;32m     50\u001b[0m input_image_path \u001b[38;5;241m=\u001b[39m \u001b[38;5;124m\"\u001b[39m\u001b[38;5;124mdata\u001b[39m\u001b[38;5;130;01m\\\\\u001b[39;00m\u001b[38;5;124mанциферова_03.jpg\u001b[39m\u001b[38;5;124m\"\u001b[39m\n\u001b[1;32m---> 51\u001b[0m particle_mask \u001b[38;5;241m=\u001b[39m \u001b[43manalyze_microplastic\u001b[49m\u001b[43m(\u001b[49m\u001b[43minput_image_path\u001b[49m\u001b[43m)\u001b[49m\n\u001b[0;32m     53\u001b[0m \u001b[38;5;66;03m# Сохранение результата\u001b[39;00m\n\u001b[0;32m     54\u001b[0m cv2\u001b[38;5;241m.\u001b[39mimwrite(\u001b[38;5;124m\"\u001b[39m\u001b[38;5;124mres.jpg\u001b[39m\u001b[38;5;124m\"\u001b[39m, particle_mask)\n",
      "Cell \u001b[1;32mIn[6], line 12\u001b[0m, in \u001b[0;36manalyze_microplastic\u001b[1;34m(image_path)\u001b[0m\n\u001b[0;32m      9\u001b[0m img \u001b[38;5;241m=\u001b[39m cv2\u001b[38;5;241m.\u001b[39mimread(image_path)\n\u001b[0;32m     11\u001b[0m \u001b[38;5;66;03m# Преобразование изображения в оттенки серого\u001b[39;00m\n\u001b[1;32m---> 12\u001b[0m gray \u001b[38;5;241m=\u001b[39m \u001b[43mcv2\u001b[49m\u001b[38;5;241;43m.\u001b[39;49m\u001b[43mcvtColor\u001b[49m\u001b[43m(\u001b[49m\u001b[43mimg\u001b[49m\u001b[43m,\u001b[49m\u001b[43m \u001b[49m\u001b[43mcv2\u001b[49m\u001b[38;5;241;43m.\u001b[39;49m\u001b[43mCOLOR_BGR2GRAY\u001b[49m\u001b[43m)\u001b[49m\n\u001b[0;32m     14\u001b[0m \u001b[38;5;66;03m# Бинаризация изображения\u001b[39;00m\n\u001b[0;32m     15\u001b[0m _, binary \u001b[38;5;241m=\u001b[39m cv2\u001b[38;5;241m.\u001b[39mthreshold(gray, \u001b[38;5;241m200\u001b[39m, \u001b[38;5;241m255\u001b[39m, cv2\u001b[38;5;241m.\u001b[39mTHRESH_BINARY)\n",
      "\u001b[1;31merror\u001b[0m: OpenCV(4.9.0) D:\\a\\opencv-python\\opencv-python\\opencv\\modules\\imgproc\\src\\color.cpp:196: error: (-215:Assertion failed) !_src.empty() in function 'cv::cvtColor'\n"
     ]
    }
   ],
   "source": [
    "import cv2\n",
    "import numpy as np\n",
    "from skimage import measure\n",
    "from scipy import ndimage\n",
    "\n",
    "# Функция для обнаружения и анализа частиц микропластика\n",
    "def analyze_microplastic(image_path):\n",
    "    # Загрузка изображения\n",
    "    img = cv2.imread(image_path)\n",
    "\n",
    "    # Преобразование изображения в оттенки серого\n",
    "    gray = cv2.cvtColor(img, cv2.COLOR_BGR2GRAY)\n",
    "\n",
    "    # Бинаризация изображения\n",
    "    _, binary = cv2.threshold(gray, 200, 255, cv2.THRESH_BINARY)\n",
    "\n",
    "    # Избавление от шумов\n",
    "    binary = cv2.morphologyEx(binary, cv2.MORPH_OPEN, np.ones((5, 5), np.uint8))\n",
    "\n",
    "    # Нахождение контуров\n",
    "    contours, _ = cv2.findContours(binary, cv2.RETR_EXTERNAL, cv2.CHAIN_APPROX_SIMPLE)\n",
    "\n",
    "    # Создание маски для частиц\n",
    "    particle_mask = np.zeros_like(gray)\n",
    "\n",
    "    # Параметры для анализа частиц\n",
    "    min_particle_area = 50  # Минимальная площадь частицы\n",
    "    max_particle_area = 5000  # Максимальная площадь частицы\n",
    "\n",
    "    # Анализ каждого контура\n",
    "    for contour in contours:\n",
    "        area = cv2.contourArea(contour)\n",
    "\n",
    "        if min_particle_area < area < max_particle_area:\n",
    "            cv2.drawContours(particle_mask, [contour], -1, 255, thickness=cv2.FILLED)\n",
    "\n",
    "            # Извлечение свойств частицы (размер, центр, геометрическая категория и т.д.)\n",
    "            moments = cv2.moments(contour)\n",
    "            cx = int(moments['m10'] / moments['m00'])\n",
    "            cy = int(moments['m01'] / moments['m00'])\n",
    "            \n",
    "            # Получение вырезанного изображения частицы\n",
    "            particle_image = img[cy-50:cy+50, cx-50:cx+50]  # Пример: вырезать 100x100 область вокруг центра частицы\n",
    "\n",
    "            # Здесь можно добавить код для определения цвета частицы и других характеристик\n",
    "\n",
    "    return particle_mask\n",
    "\n",
    "# Пример использования\n",
    "input_image_path = \"data\\\\анциферова_03.jpg\"\n",
    "particle_mask = analyze_microplastic(input_image_path)\n",
    "\n",
    "# Сохранение результата\n",
    "cv2.imwrite(\"res.jpg\", particle_mask)"
   ]
  }
 ],
 "metadata": {
  "kernelspec": {
   "display_name": "Python 3",
   "language": "python",
   "name": "python3"
  },
  "language_info": {
   "codemirror_mode": {
    "name": "ipython",
    "version": 3
   },
   "file_extension": ".py",
   "mimetype": "text/x-python",
   "name": "python",
   "nbconvert_exporter": "python",
   "pygments_lexer": "ipython3",
   "version": "3.12.0"
  },
  "vscode": {
   "interpreter": {
    "hash": "ab6e2b18e6a966a9700321bd07f0d41d8ad73a9ae6b63276711c06a2a7e8c02f"
   }
  }
 },
 "nbformat": 4,
 "nbformat_minor": 5
}
